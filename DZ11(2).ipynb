{
 "cells": [
  {
   "cell_type": "markdown",
   "metadata": {},
   "source": [
    "\n",
    "f(x) = -12x^4*sin(cos(x)) - 18x^3+5x^2 + 10x - 30\n",
    "\n",
    "    Определить корни\n",
    "    Найти интервалы, на которых функция возрастает\n",
    "    Найти интервалы, на которых функция убывает\n",
    "    Построить график\n",
    "    Вычислить вершину\n",
    "    Определить промежутки, на котором f > 0\n",
    "    Определить промежутки, на котором f < 0\n",
    "\n"
   ]
  },
  {
   "cell_type": "code",
   "execution_count": 2,
   "metadata": {
    "id": "wRvsKpdBLbLB"
   },
   "outputs": [],
   "source": [
    "from sympy import *\n",
    "from sympy.abc import x\n",
    "\n",
    "# Здесь задается интервал. Счет ведется на отрезке [start; end] с точностью precision(1, 10, 100 и тд)\n",
    "f = -12*(x**4)*sin(cos(x))-18*x**3+5*x**2+10*x-30\n",
    "precision = 1\n",
    "start = -5\n",
    "end = 6\n",
    "\n",
    "xs = [x/precision for x in range(start*precision, end*precision + 1)]\n",
    "ys = [f.subs(x, value) for value in xs]\n",
    "points = list(zip(xs, ys))"
   ]
  },
  {
   "cell_type": "code",
   "execution_count": 3,
   "metadata": {
    "colab": {
     "base_uri": "https://localhost:8080/"
    },
    "id": "q7Y2RQp2MF3c",
    "outputId": "88d04ecc-8c0c-4e44-ad9e-7535b4af297e"
   },
   "outputs": [
    {
     "name": "stdout",
     "output_type": "stream",
     "text": [
      "Интервалы возрастания:\n",
      "[-5.0, -4.0] [2.0, 4.0]\n",
      "Интервалы убывания:\n",
      "[-4.0, 2.0] [4.0, 6.0]\n"
     ]
    }
   ],
   "source": [
    "points = list(zip(xs, ys))\n",
    "increasing, decreasing = [], []\n",
    "flag_increase = True\n",
    "while len(points) >= 2:\n",
    "    counter = 0\n",
    "    if flag_increase:\n",
    "        while points[counter][0] < end and points[counter + 1][1] > points[counter][1]:\n",
    "            counter += 1\n",
    "        if counter != 0:\n",
    "            increasing.append([points[0][0], points[counter][0]])\n",
    "        flag_increase = False\n",
    "    else:\n",
    "        while points[counter][0] < end and points[counter + 1][1] < points[counter][1]:\n",
    "            counter += 1\n",
    "        if counter != 0:\n",
    "            decreasing.append([points[0][0], points[counter][0]])\n",
    "        flag_increase = True\n",
    "    del points[:counter]\n",
    "\n",
    "print(\"Интервалы возрастания:\")\n",
    "print(*increasing)\n",
    "print(\"Интервалы убывания:\")\n",
    "print(*decreasing)"
   ]
  },
  {
   "cell_type": "code",
   "execution_count": 4,
   "metadata": {
    "colab": {
     "base_uri": "https://localhost:8080/",
     "height": 265
    },
    "id": "KQgnZWoVMfRU",
    "outputId": "660253ad-13eb-4f67-e4f5-628dd66cae64"
   },
   "outputs": [
    {
     "data": {
      "image/png": "[encoded data removed]",
      "text/plain": [
       "<Figure size 432x288 with 1 Axes>"
      ]
     },
     "metadata": {
      "needs_background": "light"
     },
     "output_type": "display_data"
    }
   ],
   "source": [
    "import matplotlib.pyplot as plt\n",
    "\n",
    "l_board = -5\n",
    "r_board = 6\n",
    "x = [-12*x**4*sin(cos(x))-18*x**3+5*x**2+10*x-30 for x in range(l_board, r_board)]\n",
    "y = [y for y in range(l_board, r_board)]\n",
    "plt.plot(y, x)\n",
    "plt.grid()\n",
    "plt.show()"
   ]
  },
  {
   "cell_type": "code",
   "execution_count": 5,
   "metadata": {
    "colab": {
     "base_uri": "https://localhost:8080/"
    },
    "id": "MTmNCG7NP4DM",
    "outputId": "fd78de44-b68d-40a4-9854-d6b684313d8a"
   },
   "outputs": [
    {
     "name": "stdout",
     "output_type": "stream",
     "text": [
      "Точки экстремума:\n",
      "(-5.0, 195.949869236045) (-4.0, 3030.03100561643) (2.0, -56.3860824603650) (4.0, 806.031005616432)\n"
     ]
    }
   ],
   "source": [
    "# приблизительное нахождение вершин на заданном отрезке\n",
    "points = list(zip(xs, ys))\n",
    "extrema = []\n",
    "flag_incr = True\n",
    "prior = points[0]\n",
    "for current in points[1:]:\n",
    "    if (flag_incr and prior[1] > current[1]) or (not flag_incr and prior[1] < current[1]):\n",
    "        prior = current\n",
    "        continue\n",
    "    else:\n",
    "        extrema.append(prior)\n",
    "        prior = current\n",
    "        flag_incr = not flag_incr\n",
    "\n",
    "print(\"Точки экстремума:\")\n",
    "print(*extrema)"
   ]
  },
  {
   "cell_type": "code",
   "execution_count": 6,
   "metadata": {
    "colab": {
     "base_uri": "https://localhost:8080/"
    },
    "id": "fe81Ym_-QET5",
    "outputId": "21e65614-afbc-41a5-e911-2cdc9c5deffe"
   },
   "outputs": [
    {
     "name": "stdout",
     "output_type": "stream",
     "text": [
      "Интервалы, на котором f > 0:\n",
      "[-5.0, -3.0] [3.0, 3.0]\n",
      "Интервалы, на котором f < 0:\n",
      "[-1.0, 1.0] [5.0, 6.0]\n"
     ]
    }
   ],
   "source": [
    "# нахождение промежутов, где f > 0 и f < 0\n",
    "points = list(zip(xs, ys))\n",
    "above, below = [], []\n",
    "flag_increase = False\n",
    "while len(points) >= 2:\n",
    "    counter = 0\n",
    "    if flag_increase:\n",
    "        while points[counter][0] < end and points[counter][1] > 0:\n",
    "            counter += 1\n",
    "        if counter != 0:\n",
    "            above.append([points[0][0], points[counter - 2][0]])\n",
    "        flag_increase = False\n",
    "    else:\n",
    "        while points[counter][0] < end and points[counter][1] < 0:\n",
    "            counter += 1\n",
    "        if counter != 0:\n",
    "            below.append([points[0][0], points[counter - 2][0]])\n",
    "        flag_increase = True\n",
    "    del points[:counter]\n",
    "\n",
    "print(\"Интервалы, на котором f > 0:\")\n",
    "print(*above)\n",
    "print(\"Интервалы, на котором f < 0:\")\n",
    "print(*below)"
   ]
  },
  {
   "cell_type": "code",
   "execution_count": null,
   "metadata": {},
   "outputs": [],
   "source": []
  }
 ],
 "metadata": {
  "colab": {
   "provenance": []
  },
  "kernelspec": {
   "display_name": "Python 3 (ipykernel)",
   "language": "python",
   "name": "python3"
  },
  "language_info": {
   "codemirror_mode": {
    "name": "ipython",
    "version": 3
   },
   "file_extension": ".py",
   "mimetype": "text/x-python",
   "name": "python",
   "nbconvert_exporter": "python",
   "pygments_lexer": "ipython3",
   "version": "3.9.12"
  }
 },
 "nbformat": 4,
 "nbformat_minor": 1
}
